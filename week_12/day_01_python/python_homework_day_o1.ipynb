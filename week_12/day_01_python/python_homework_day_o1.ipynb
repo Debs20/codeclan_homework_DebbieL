{
 "cells": [
  {
   "cell_type": "code",
   "execution_count": 1,
   "metadata": {},
   "outputs": [],
   "source": [
    "list = 3, 6, 2, 19, 21"
   ]
  },
  {
   "cell_type": "code",
   "execution_count": 9,
   "metadata": {},
   "outputs": [
    {
     "data": {
      "text/plain": [
       "[3, 19]"
      ]
     },
     "execution_count": 9,
     "metadata": {},
     "output_type": "execute_result"
    }
   ],
   "source": [
    "#Finish what you start...\n",
    "#Write a function that takes in a list and returns a two-element list containing the first and last elements of the inputted list. For example, for input [3, 6, 2,  19], the function should return [3, 19]\n",
    "\n",
    "def first_and_last(input_list):\n",
    "  return [input_list[0], input_list[-1]]\n",
    "  \n",
    "first_and_last([3, 6, 2,  19])"
   ]
  },
  {
   "cell_type": "code",
   "execution_count": 6,
   "metadata": {},
   "outputs": [
    {
     "data": {
      "text/plain": [
       "{'digits': 3, 'letters': 10}"
      ]
     },
     "execution_count": 6,
     "metadata": {},
     "output_type": "execute_result"
    }
   ],
   "source": [
    "#Your letters are numbered\n",
    "#Write a function that takes in a sentence and returns a dictionary containing a count of letters and digits. For example, for input \"hello world! 123\", the function output should be {'digits': 3, 'letters': 10}\n",
    "\n",
    "def letter_number_count(input):\n",
    "  output = {'digits' : 0, \"letters\" : 0}\n",
    "  for character in input:\n",
    "    if character.isdigit():\n",
    "        output[\"digits\"] += 1\n",
    "    elif character.isalpha():\n",
    "        output[\"letters\"] += 1\n",
    "  return output\n",
    "  \n",
    "letter_number_count(\"hello world! 123\")"
   ]
  },
  {
   "cell_type": "markdown",
   "metadata": {},
   "source": [
    "Extension\n",
    "Write a class to model a bank account in a simple way. The class should have a balance attribute that starts at a value zero when the account is created, along with methods:\n",
    "\n",
    "get_balance() - prints balance to screen\n",
    "deposit(amount) - should deposit any positive amount and print new balance to screen, or print an error if amount is negative or zero.\n",
    "withdraw(amount) - should work only if there are sufficient funds in the account, withdraw any positive amount and print new balance to screen, otherwise it should print an error message.\n",
    "Create your own bank account object from your class and test that all of your methods work as expected, including testing for expected errors.\n",
    "\n",
    "[Hint - remember to pass self into all methods in the class]"
   ]
  },
  {
   "cell_type": "code",
   "execution_count": 8,
   "metadata": {},
   "outputs": [
    {
     "name": "stdout",
     "output_type": "stream",
     "text": [
      "Deposit amount £100\n",
      "New balance is £100\n",
      "Balance is £100\n",
      "Deposit amount zero or negative - transaction cancelled.\n",
      "Withdraw amount zero or negative - transaction cancelled.\n",
      "Balance is £100\n",
      "Withdraw amount £40\n",
      "New balance is £60\n",
      "Insufficient funds - transaction cancelled.\n",
      "Withdraw amount £60\n",
      "New balance is £0\n"
     ]
    }
   ],
   "source": [
    "class BankAccount:\n",
    "\n",
    "  def __init__(self):\n",
    "    self.balance = 0\n",
    "    \n",
    "  def get_balance(self):\n",
    "    print(\"Balance is £\" + str(self.balance))\n",
    "    \n",
    "  def deposit(self, amount):\n",
    "    if amount > 0:\n",
    "      self.balance += amount\n",
    "      print(\"Deposit amount £\" + str(amount))\n",
    "      print(\"New balance is £\" + str(self.balance))\n",
    "    else:\n",
    "      print(\"Deposit amount zero or negative - transaction cancelled.\")\n",
    "      \n",
    "  def withdraw(self, amount):\n",
    "    if amount > 0:\n",
    "      if self.balance - amount >= 0:\n",
    "        self.balance -= amount\n",
    "        print(\"Withdraw amount £\" + str(amount))\n",
    "        print(\"New balance is £\" + str(self.balance))\n",
    "      else:\n",
    "        print(\"Insufficient funds - transaction cancelled.\")\n",
    "    else:\n",
    "      print(\"Withdraw amount zero or negative - transaction cancelled.\")\n",
    "\n",
    "\n",
    "my_account = BankAccount()\n",
    "my_account.deposit(100)\n",
    "my_account.get_balance()\n",
    "my_account.deposit(-5)\n",
    "my_account.withdraw(-5)\n",
    "my_account.get_balance()\n",
    "my_account.withdraw(40)\n",
    "my_account.withdraw(70)\n",
    "my_account.withdraw(60)"
   ]
  },
  {
   "cell_type": "code",
   "execution_count": null,
   "metadata": {},
   "outputs": [],
   "source": []
  }
 ],
 "metadata": {
  "kernelspec": {
   "display_name": "Python 3",
   "language": "python",
   "name": "python3"
  },
  "language_info": {
   "codemirror_mode": {
    "name": "ipython",
    "version": 3
   },
   "file_extension": ".py",
   "mimetype": "text/x-python",
   "name": "python",
   "nbconvert_exporter": "python",
   "pygments_lexer": "ipython3",
   "version": "3.7.4"
  }
 },
 "nbformat": 4,
 "nbformat_minor": 2
}
